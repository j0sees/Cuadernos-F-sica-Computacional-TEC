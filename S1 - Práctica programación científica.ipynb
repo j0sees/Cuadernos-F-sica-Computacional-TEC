{
 "cells": [
  {
   "cell_type": "markdown",
   "id": "8e5f7418",
   "metadata": {},
   "source": [
    "# Práctica programación científica\n",
    "* Prof. Esteban Pérez Hidalgo\n",
    "* Física Computacional I I-2024"
   ]
  },
  {
   "cell_type": "markdown",
   "id": "02914d25",
   "metadata": {},
   "source": [
    "## Graficación\n",
    "\n",
    "Genere las gráficas que se le solicitan usando las funciones de los paquetes `numpy` y `matplotlib`\n",
    "\n",
    "* Importe las bibliotecas `numpy` y `matplotlib`"
   ]
  },
  {
   "cell_type": "code",
   "execution_count": null,
   "id": "beca9551",
   "metadata": {},
   "outputs": [],
   "source": [
    "# importe aquí las bibiotecas"
   ]
  },
  {
   "cell_type": "markdown",
   "id": "b1e98a41",
   "metadata": {},
   "source": [
    "### Gráfico de una función sinoidal\n",
    "* Genere un _array_ y una _lista_ con _muchos_ valores de 0 a 16. Ambas estructuras deben contener los mismos valores. Para generar el arreglo use las funciones `np.linspace()` o `np.arange()`, ¿cuál es la diferencia entre ellas?. Este _array_ contiene los valores en _x_ que se usarán para el gráfico. Consulte https://numpy.org/doc/stable/reference/routines.array-creation.html#numerical-ranges\n",
    "* Ahora calcule el coseno del _array_ usando `np.cos()`. Este _array_ contiene los valores en _y_ que se usarán para el gráfico. Consulte https://numpy.org/doc/stable/reference/routines.math.html. Use el comando mágico `%timeit` (https://ipython.readthedocs.io/en/stable/interactive/magics.html#magic-timeit) para obtener el tiempo que se tarda ejecutando el cálculo del coseno.\n",
    "* Calcule el coseno de los valores en la lista para formar la lista de valores en _y_. Use el comando mágico `%timeit` para obtener el tiempo que se tarda ejecutando el cálculo del coseno.\n",
    "* Basado en el procedimiento anterior, ¿es más conveniente usar listas o _arrays_ para manejar valores numéricos? Explique.\n",
    "* Cree un gráfico de _dispersión_ usando la función `scatter`. Consulte https://matplotlib.org/3.6.3/api/_as_gen/matplotlib.axes.Axes.scatter.html#matplotlib.axes.Axes.scatter. \n",
    "* Agregue a cada gráfico los siguientes elementos: título, leyenda a los ejes, active el grid, cambie los _markers_."
   ]
  },
  {
   "cell_type": "code",
   "execution_count": 1,
   "id": "67d73643",
   "metadata": {},
   "outputs": [],
   "source": [
    "# Gráfico de dispersión de una función sinoidal"
   ]
  },
  {
   "cell_type": "markdown",
   "id": "1a406fae",
   "metadata": {},
   "source": [
    "* Cambie el tipo de gráfico a `plot` y observe la diferencia. Cambie el estilo de línea, el color, el grosor y la opacidad.\n",
    "* Además cambie los límites de los ejes _x_ y _y_ para que coincidan con los valores extremos de la función."
   ]
  },
  {
   "cell_type": "code",
   "execution_count": 3,
   "id": "0746a729",
   "metadata": {},
   "outputs": [],
   "source": [
    "# Gráfico de la función sinoidal"
   ]
  },
  {
   "cell_type": "markdown",
   "id": "b0396dd0",
   "metadata": {},
   "source": [
    "### Gráfico de una función compleja\n",
    "* Defina la siguente función:\n",
    "$$\n",
    "\\Psi = A e^{i(kx-\\omega t)}\n",
    "$$\n",
    "\n",
    "Donde $A$ es la _amplitud_ de la función de onda, $k$ es el _número de onda_ y $\\omega$ (omega) es la _frecuencia angular_.\n",
    "\n",
    "* Para definir un número complejo en un _array_ use el caracter **j**.\n",
    "* Defina valores razonables para $A$, $k$ y $\\omega$ y evalúe la función de onda en un intervalo de valores en $x$ para un $t$ fijo. Guarde los valores de la función de onda en un arreglo llamado _psi_\n",
    "* Averigue cómo obtener la parte real y la parte imaginaria del array $psi$. Consulte https://numpy.org/doc/stable/reference/arrays.ndarray.html#other-attributes\n",
    "* Grafique la parte real y la parte compleja de la función anterior en un mismo gráfico (en `matplotlib` esto quiere decir que habrían dos `axes` en una sola `fig`) utilizando colores diferentes para cada parte.\n",
    "* Agregue todos los elementos necesarios para comprender el gráfico realizado. Agregue etiquetas a las partes real e imaginaria del gráfico."
   ]
  },
  {
   "cell_type": "code",
   "execution_count": null,
   "id": "92d9ad6d",
   "metadata": {},
   "outputs": [],
   "source": [
    "# Gráfico de una función compleja"
   ]
  },
  {
   "cell_type": "markdown",
   "id": "b85da779",
   "metadata": {},
   "source": [
    "### Mosaico\n",
    "* Genere un array de $10 \\times 10$ con valores aleatorios entre $0$ y $1$. Consulte https://numpy.org/doc/stable/reference/random/generated/numpy.random.Generator.random.html#numpy.random.Generator.random\n",
    "* Grafique el array usando la función `imshow`. Consulte https://matplotlib.org/3.6.3/api/_as_gen/matplotlib.axes.Axes.imshow.html\n",
    "* Agregue un _colormap_ al gráfico anterior. Consulte https://matplotlib.org/3.6.3/gallery/images_contours_and_fields/colormap_interactive_adjustment.html#interactive-adjustment-of-colormap-range\n",
    "* Cambie el código de colores (`cmap`) del mosaico. Consulte https://matplotlib.org/stable/tutorials/colors/colormaps.html\n",
    "* Agregue todos los elementos necesarios para comprender el gráfico realizado. Elimine los `tiks` de los ejes."
   ]
  },
  {
   "cell_type": "code",
   "execution_count": null,
   "id": "10a8481b",
   "metadata": {},
   "outputs": [],
   "source": [
    "# Mosaico"
   ]
  },
  {
   "cell_type": "markdown",
   "id": "6018a404",
   "metadata": {},
   "source": [
    "### Mosaico de gráficos\n",
    "* Genere un gráfico de su interés usando cualquiera de las funciones anteriores u otra de su preferencia.\n",
    "* Agregue todos los elementos necesarios para comprender el gráfico realizado.\n",
    "* Ahora agrupe los 4 gráficos generados en un solo mosaico de gráficos de $2 \\times 2$ usando la función `subplots`. Consulte https://matplotlib.org/3.6.3/api/_as_gen/matplotlib.pyplot.subplots.html#matplotlib-pyplot-subplots\n",
    "* Cada gráfico tiene que estar debidamente titulado, etiquetado, etc. Agregue un `suptitle` a la figura."
   ]
  },
  {
   "cell_type": "code",
   "execution_count": null,
   "id": "6498bd88",
   "metadata": {},
   "outputs": [],
   "source": [
    "# Mosaico de gráficos"
   ]
  },
  {
   "cell_type": "markdown",
   "id": "5057d846",
   "metadata": {},
   "source": [
    "## Ajuste de funciones\n",
    "\n",
    "* De la biblioteca `scipy` importe la función `curve_fit()`"
   ]
  },
  {
   "cell_type": "code",
   "execution_count": null,
   "id": "0a2d25c0",
   "metadata": {},
   "outputs": [],
   "source": [
    "# Importe la función curve_fit()"
   ]
  },
  {
   "cell_type": "markdown",
   "id": "7fa9d573",
   "metadata": {},
   "source": [
    "* Cargue los datos del archivo `Datos Control Positivo.txt` a un _array_. Use la función `np.loadtxt()` o la biblioteca `pandas`. Consulte https://numpy.org/doc/stable/reference/generated/numpy.loadtxt.html#numpy-loadtxt o https://pandas.pydata.org/docs/getting_started/intro_tutorials/02_read_write.html\n",
    "* Organice los datos para que el _array_ (o la _tabla_ de `pandas`) contenga 7 filas y 4 columnas. Los datos representan el crecimiento de un conjunto de células en el tiempo. La primera columna representa el tiempo y las demás la tasa de crecimiento para cada instante.\n",
    "* Genere un gráfico de dispersión donde represente los datos obtenidos para cada conjunto de control positivo, exceptuando el último punto de cada conjunto. Cada serie de datos debe representarse mediante un color distinto y estar etiquetada. Agregue todos los elementos necesarios para comprender el gráfico realizado."
   ]
  },
  {
   "cell_type": "code",
   "execution_count": null,
   "id": "cde53b5c",
   "metadata": {},
   "outputs": [],
   "source": [
    "# Gráficos de control positivo"
   ]
  },
  {
   "cell_type": "markdown",
   "id": "4218d74f",
   "metadata": {},
   "source": [
    "* Defina la función \n",
    "$$\n",
    "N(t) = \\dfrac{k}{1 + \\frac{k - p_0}{p_0}e^{-rt}}\n",
    "$$\n",
    "donde $k$ (capacidad de carga), $p_0$ (población inicial) y $r$ (tasa de crecimiento) son parámetros que deben ajustarse. La variable independiente es $t$. Esta función de crecimiento logístico modela la cantidad de células presentes. "
   ]
  },
  {
   "cell_type": "code",
   "execution_count": null,
   "id": "bfd50185",
   "metadata": {},
   "outputs": [],
   "source": [
    "# Función de ajuste"
   ]
  },
  {
   "cell_type": "markdown",
   "id": "cc34d36e",
   "metadata": {},
   "source": [
    "* Ahora use la función `curve_fit()` para ajustar los datos de control positivo. Haga el ajuste solo de los datos del control positivo 1. Consulte https://docs.scipy.org/doc/scipy/reference/generated/scipy.optimize.curve_fit.html#scipy.optimize.curve_fit"
   ]
  },
  {
   "cell_type": "code",
   "execution_count": null,
   "id": "77255551",
   "metadata": {},
   "outputs": [],
   "source": [
    "# Ajuste por curve_fit()"
   ]
  },
  {
   "cell_type": "markdown",
   "id": "00e4f76d",
   "metadata": {},
   "source": [
    "* Ahora en un solo gráfico muestre los datos de control positivo 1 y la función de crecimiento logístico usando los parámetros obtenidos en el ajuste."
   ]
  },
  {
   "cell_type": "code",
   "execution_count": null,
   "id": "b5e5ac08",
   "metadata": {},
   "outputs": [],
   "source": [
    "# Datos de control positivo y su ajuste"
   ]
  },
  {
   "cell_type": "markdown",
   "id": "149bfdec",
   "metadata": {},
   "source": [
    "* Finalmente, calcule el coeficiente de pearson para determinar si el ajuste realizado es bueno. Averigüe por su cuenta cómo calcular el valor usando herramientas de python."
   ]
  },
  {
   "cell_type": "code",
   "execution_count": null,
   "id": "7de287e5",
   "metadata": {},
   "outputs": [],
   "source": [
    "# Coeficiente de Pearson"
   ]
  },
  {
   "cell_type": "markdown",
   "id": "8e99788f",
   "metadata": {},
   "source": [
    "## Simulación de un autómata celular\n",
    "\n",
    "* Genere un _array_ con 10 entradas, donde cada una tiene un valor aleatorio _0_ o _1_.\n",
    "* Escriba una función _EvoluciónTemporal()_ que tome como parámetro de entrada un arreglo (como el del paso anterior). La función recorre las entradas del arreglo y cambia sus valores de la siguiente manera:\n",
    "    - Para cada entrada, se lee el valor de la entrada anterior, la actual y la siguiente. Es decir, se lee el valor de la entrada actual y sus vecinos.\n",
    "    - La primera y última entrada del arreglo se consideran vecinos.\n",
    "    - De acuerdo al patrón obtenido: 001, 110, 010, etc, se le asigna a la entrada actual un valor nuevo siguiendo una regla. Use la regla 110: https://en.wikipedia.org/wiki/Rule_110.\n",
    "    - Guarde los valores nuevos en una lista\n",
    "    - La función retorna la lista de valores nuevos\n",
    "* Ahora cree un ciclo de 100 pasos donde en cada paso se evalúa la función _EvoluciónTemporal()_ usando el resultado de la evaluación anterior. El arreglo inicial es el que se creó en el primer paso.\n",
    "* Grafique la evolución temporal del autómata celular. Agregue todos los elementos necesarios para comprender el gráfico realizado."
   ]
  },
  {
   "cell_type": "code",
   "execution_count": null,
   "id": "43373c88",
   "metadata": {},
   "outputs": [],
   "source": []
  }
 ],
 "metadata": {
  "kernelspec": {
   "display_name": "Python 3 (ipykernel)",
   "language": "python",
   "name": "python3"
  },
  "language_info": {
   "codemirror_mode": {
    "name": "ipython",
    "version": 3
   },
   "file_extension": ".py",
   "mimetype": "text/x-python",
   "name": "python",
   "nbconvert_exporter": "python",
   "pygments_lexer": "ipython3",
   "version": "3.9.7"
  }
 },
 "nbformat": 4,
 "nbformat_minor": 5
}
